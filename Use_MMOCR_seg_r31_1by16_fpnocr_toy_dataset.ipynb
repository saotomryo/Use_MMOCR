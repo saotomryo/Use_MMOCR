{
  "cells": [
    {
      "cell_type": "markdown",
      "metadata": {
        "id": "view-in-github",
        "colab_type": "text"
      },
      "source": [
        "<a href=\"https://colab.research.google.com/github/saotomryo/Use_MMOCR/blob/main/Use_MMOCR_seg_r31_1by16_fpnocr_toy_dataset.ipynb\" target=\"_parent\"><img src=\"https://colab.research.google.com/assets/colab-badge.svg\" alt=\"Open In Colab\"/></a>"
      ]
    },
    {
      "cell_type": "code",
      "execution_count": null,
      "metadata": {
        "id": "2IPmHECyfHPp"
      },
      "outputs": [],
      "source": [
        "import torch\n",
        "import json\n",
        "from skimage import measure\n",
        "import numpy as np\n",
        "print(torch.__version__)\n",
        "device = \"cuda\" if torch.cuda.is_available() else \"cpu\"\n",
        "print(\"device = \", device)"
      ]
    },
    {
      "cell_type": "markdown",
      "metadata": {
        "id": "5xdkNklHDWku"
      },
      "source": [
        "## 環境準備 MMCV MMOCRのインストール"
      ]
    },
    {
      "cell_type": "code",
      "execution_count": null,
      "metadata": {
        "id": "zuhLiZC2ClOE"
      },
      "outputs": [],
      "source": [
        "#!pip install mmcv-full==1.3.17\n",
        "#!pip install mmcv-full\n",
        "!pip install https://download.openmmlab.com/mmcv/dist/cu113/torch1.11.0/mmcv_full-1.4.7-cp37-cp37m-manylinux1_x86_64.whl"
      ]
    },
    {
      "cell_type": "code",
      "source": [
        "# Install mmdetection\n",
        "!pip install mmdet"
      ],
      "metadata": {
        "id": "mEgPVLA6QwjU"
      },
      "execution_count": null,
      "outputs": []
    },
    {
      "cell_type": "code",
      "execution_count": null,
      "metadata": {
        "id": "y3WNFcX3PUcP"
      },
      "outputs": [],
      "source": [
        "HOME_PATH = \"/content\""
      ]
    },
    {
      "cell_type": "code",
      "execution_count": null,
      "metadata": {
        "id": "KKdRG66riHGN"
      },
      "outputs": [],
      "source": [
        "\n",
        "!git clone https://github.com/open-mmlab/mmocr.git\n",
        "%cd mmocr\n",
        "!pip install -r requirements/build.txt\n",
        "!pip install -v -e .  # or \"python setup.py develop\""
      ]
    },
    {
      "cell_type": "markdown",
      "metadata": {
        "id": "LDlSsCUcDlr_"
      },
      "source": [
        "## コンフィグファイルの編集"
      ]
    },
    {
      "cell_type": "code",
      "execution_count": null,
      "metadata": {
        "id": "NXx5P69_asuC"
      },
      "outputs": [],
      "source": [
        "%cd /content/mmocr"
      ]
    },
    {
      "cell_type": "code",
      "execution_count": null,
      "metadata": {
        "id": "MQ_ZoxbmPLGn"
      },
      "outputs": [],
      "source": [
        "from mmcv import Config\n",
        "cfg = Config.fromfile('/content/mmocr/configs/textrecog/sar/sar_r31_parallel_decoder_toy_dataset.py')\n"
      ]
    },
    {
      "cell_type": "markdown",
      "source": [
        "## アノテーションファイルの変換\n",
        "\n",
        "　toy_datasetのアノテーションファイルはファイル名（半角スペース)対象文字列で、テキストファイルとして作成します。\n",
        "\n",
        "　ファイル名 対象の文字列\n",
        "\n",
        "作成したテキストファイルをlmdbフォルダに形式変換して保存します。\n",
        "\n"
      ],
      "metadata": {
        "id": "BHf1vJQNVMeY"
      }
    },
    {
      "cell_type": "code",
      "source": [
        "## アノテーションフォルダの設定\n",
        "#　元になるテキストファイル\n",
        "label_path = #ラベルファイルのパス\n",
        "lmdb_path = #ラベル変換出力したファイルのパス\n",
        "\n",
        "# 画像ファイルのパス\n",
        "img_path = 画像フォルダのパス\n",
        "\n",
        "# ルートフォルダ\n",
        "root_path = ルートフォルダのパス\n",
        "\n",
        "# 作業フォルダ（学習時のモデル出力先（エポック毎に出力))\n",
        "work_path = 作業フォルダのパス\n"
      ],
      "metadata": {
        "id": "KZnP8V-FV4WN"
      },
      "execution_count": null,
      "outputs": []
    },
    {
      "cell_type": "code",
      "source": [
        "!python /content/mmocr/tools/data/utils/txt2lmdb.py \\\n",
        "    -i $label_path \\\n",
        "    -o $lmdb_path"
      ],
      "metadata": {
        "id": "dl-2HoEBiFhV"
      },
      "execution_count": null,
      "outputs": []
    },
    {
      "cell_type": "code",
      "source": [
        ""
      ],
      "metadata": {
        "id": "HWOOltzqQp83"
      },
      "execution_count": null,
      "outputs": []
    },
    {
      "cell_type": "code",
      "execution_count": null,
      "metadata": {
        "id": "Pl4npPTBEiUK"
      },
      "outputs": [],
      "source": [
        "from mmdet.apis import set_random_seed\n",
        "\n",
        "# コンフィグを変更する\n",
        "# sar\n",
        "\n",
        "# 作業フォルダ\n",
        "cfg.work_dir = work_path\n",
        "\n",
        "# rootフォルダ\n",
        "cfg.root = root_path\n",
        "\n",
        "# アノテーションファイルのパス\n",
        "cfg.train_anno_file1 = label_path\n",
        "cfg.train_anno_file2 = lmdb_path\n",
        "cfg.img_prefix = img_path\n",
        "cfg.train1.ann_file = label_path\n",
        "cfg.train1.img_prefix = img_path\n",
        "cfg.train2.ann_file = label_path\n",
        "cfg.train2.img_prefix = img_path\n",
        "cfg.test.ann_file = lmdb_path\n",
        "cfg.test.img_prefix = img_path\n",
        "cfg.test_anno_file1 = lmdb_path\n",
        "cfg.train_list[0].ann_file = label_path\n",
        "cfg.train_list[0].img_prefix = img_path\n",
        "cfg.train_list[1].ann_file = lmdb_path\n",
        "cfg.train_list[1].img_prefix = img_path\n",
        "cfg.test_list[0].ann_file = lmdb_path\n",
        "cfg.test_list[0].img_prefix = img_path\n",
        "cfg.data.test.datasets[0].ann_file = lmdb_path\n",
        "cfg.data.test.datasets[0].img_prefix = img_path\n",
        "cfg.data.train.datasets[0].ann_file = label_path\n",
        "cfg.data.train.datasets[0].img_prefix = img_path\n",
        "cfg.data.train.datasets[1].ann_file = lmdb_path\n",
        "cfg.data.train.datasets[1].img_prefix = img_path\n",
        "cfg.data.val.datasets[0].ann_file = lmdb_path\n",
        "cfg.data.val.datasets[0].img_prefix = img_path\n",
        "\n",
        "\n",
        "# The original learning rate (LR) is set for 8-GPU training.\n",
        "# We divide it by 8 since we only use one GPU.\n",
        "cfg.optimizer.lr = 0.001 / 8\n",
        "cfg.lr_config.warmup = None\n",
        "# Choose to log training results every 40 images to reduce the size of log file. \n",
        "cfg.log_config.interval = 40\n",
        "\n",
        "# Set seed thus the results are more reproducible\n",
        "cfg.seed = 0\n",
        "set_random_seed(0, deterministic=False)\n",
        "cfg.gpu_ids = range(1)\n",
        "\n",
        "\n",
        "# Let's have a look at the final config used for training\n",
        "print(f'Config:\\n{cfg.pretty_text}')\n",
        "\n",
        "\n",
        "# 編集したコンフィグをファイル出力\n",
        "cfg.dump('/content/seg_r31_1by16_fpnocr_toy_dataset.py')\n"
      ]
    },
    {
      "cell_type": "code",
      "source": [
        "from mmocr.datasets import build_dataset\n",
        "from mmocr.models import build_detector\n",
        "from mmocr.apis import train_detector\n",
        "import os.path as osp\n",
        "\n",
        "# Build dataset\n",
        "datasets = [build_dataset(cfg.data.train)]\n",
        "\n",
        "# Build the detector\n",
        "model = build_detector(\n",
        "    cfg.model, train_cfg=cfg.get('train_cfg'), test_cfg=cfg.get('test_cfg'))\n",
        "# Add an attribute for visualization convenience\n",
        "model.CLASSES = datasets[0].CLASSES\n",
        "\n",
        "# Create work_dir\n",
        "#mmcv.mkdir_or_exist(osp.abspath(cfg.work_dir))\n",
        "train_detector(model, datasets, cfg, distributed=False, validate=True)"
      ],
      "metadata": {
        "id": "6UvxMBq2GPwW"
      },
      "execution_count": null,
      "outputs": []
    },
    {
      "cell_type": "markdown",
      "metadata": {
        "id": "rWpWKp8xDps0"
      },
      "source": [
        "## 学習結果の確認"
      ]
    },
    {
      "cell_type": "code",
      "execution_count": null,
      "metadata": {
        "id": "4njK0yrgEcb7"
      },
      "outputs": [],
      "source": [
        "%cd /content/mmocr"
      ]
    },
    {
      "cell_type": "code",
      "execution_count": null,
      "metadata": {
        "id": "_9LdgUnsSF0n"
      },
      "outputs": [],
      "source": [
        "\n",
        "from mmocr.apis import init_detector, model_inference\n",
        "\n",
        "img = #確認する画像ファイルのパス\n",
        "checkpoint = # 利用するモデルのパス\n",
        "out_file = # 出力するファイルのパス\n",
        "\n",
        "model = init_detector(cfg, checkpoint, device=device)\n",
        "if model.cfg.data.test['type'] == 'ConcatDataset':\n",
        "    model.cfg.data.test.pipeline = model.cfg.data.test['datasets'][0].pipeline\n",
        "\n",
        "result = model_inference(model, img)\n",
        "print(f'result: {result}')\n",
        "\n",
        "img = model.show_result(\n",
        "        img, result, out_file=out_file, show=False)\n",
        "\n"
      ]
    }
  ],
  "metadata": {
    "accelerator": "GPU",
    "colab": {
      "collapsed_sections": [
        "m--0IpZEDt4_"
      ],
      "machine_shape": "hm",
      "name": "Use_MMOCR_seg_r31_1by16_fpnocr_toy_dataset.ipynb",
      "provenance": [],
      "mount_file_id": "1ayWgRrA3FpU65d1GgsinXvkDoWkjochJ",
      "authorship_tag": "ABX9TyP2RKFNHPLZy6s0xQE9LPXM",
      "include_colab_link": true
    },
    "kernelspec": {
      "display_name": "Python 3",
      "name": "python3"
    },
    "language_info": {
      "name": "python"
    }
  },
  "nbformat": 4,
  "nbformat_minor": 0
}